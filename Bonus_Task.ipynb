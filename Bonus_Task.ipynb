{
 "cells": [
  {
   "cell_type": "markdown",
   "metadata": {},
   "source": [
    "# Bonus task\n",
    "On a VPS provider of your choice (there are e.g. free trials on Digital Ocean, Google Compute, AWS, etc.), create a machine with any Linux distribution. Install an ElasticSearch instance, upload the final dataframe to the virtual machine and then write a Python script which reads the file line by line and writes data into the ES. \n",
    "●\tUse the best practices you can - the code should be comprehensible and follow python style guides. \n",
    "●\tCan you do this without loading the whole dataframe into memory on Python side? \n"
   ]
  },
  {
   "cell_type": "markdown",
   "metadata": {},
   "source": [
    "I have not used ElasticSearch before, so I did some research on google and tried to install it on my computer (window 10) just to do this task. Unfortunately, I could not get it to work since upon ES installation, it requires Java8 and above, mine is Java6 which I thought is out of date. But when I did an update check, it said this is already the updated version for my computer. "
   ]
  },
  {
   "cell_type": "markdown",
   "metadata": {},
   "source": [
    "##### Due to my current workload, I won't have time this week to look into this further. However, I have some thoughts on this task from my research on the web regarding the questions:"
   ]
  },
  {
   "cell_type": "markdown",
   "metadata": {},
   "source": [
    "For Python, there are APIs we can use to connect Python and ES, such as 'pyes', 'pyelasticsearch', 'esimport'. Among these, 'esimport' package seems to be OK to import large csv file (100+MB) into ES.\n",
    "\n",
    "When the size of input file is too big, and we do not want to load the whole file into memory at once. In this case, we can read file by chunks and create a generator to store these chunks for later analysis. Also, pyelasticsearch supports bulk indexing, so file can be written into ES by chunks as well.\n"
   ]
  }
 ],
 "metadata": {
  "kernelspec": {
   "display_name": "Python 3",
   "language": "python",
   "name": "python3"
  },
  "language_info": {
   "codemirror_mode": {
    "name": "ipython",
    "version": 3
   },
   "file_extension": ".py",
   "mimetype": "text/x-python",
   "name": "python",
   "nbconvert_exporter": "python",
   "pygments_lexer": "ipython3",
   "version": "3.5.3"
  }
 },
 "nbformat": 4,
 "nbformat_minor": 2
}
