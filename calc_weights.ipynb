{
 "cells": [
  {
   "cell_type": "markdown",
   "metadata": {},
   "source": [
    "## Computation\n",
    "\n",
    "Using the file from the previous step, run the python script `compute_weights.py` on this file. You need to have `numpy` and `pandas` libraries installed, although no in-depth knowledge of those is required. The script prints out result universe sizes computed based on weighting for each combination of q2 and q4 and true universe sizes from given from QUOTAS. These numbers should be the same for each group. The script can read HDF files or CSV files. It heavily uses `pandas` and all necessary informations can be found in pandas documentation.\n",
    "\n",
    "On the first run, you will probably see something like:\n",
    "\n",
    "$ python compute_weights.py tmp.hdf\n",
    "(q2, q4): (0, 0)\t 1643.0 \t 1000\n",
    "(q2, q4): (0, 1)\t 21698.0 \t 2000\n",
    "(q2, q4): (0, 2)\t 26548.0 \t 3000\n",
    "(q2, q4): (1, 0)\t 1743.0 \t 5000\n",
    "(q2, q4): (1, 1)\t 21658.0 \t 8000\n",
    "(q2, q4): (1, 2)\t 26809.0 \t 3000\n",
    "\n",
    "Numbers on each line clearly don’t match, so you need to edit the code so it does match. There is a bug in computing the `factor` in function `get_factor_weights`, which is a value which should be assigned to a respondent with a given combination of q2 and q4. \n",
    "\n",
    "##TASK:\n",
    "You have to locate and fix this bug in order to complete this part. The numbers on each line should match. Hence, the output of a correct solution should be:\n",
    "\n",
    "$ python compute_weights.py tmp.hdf\n",
    "(q2, q4): (0, 0)\t 1000.0 \t 1000\n",
    "(q2, q4): (0, 1)\t 2000.0 \t 2000\n",
    "(q2, q4): (0, 2)\t 3000.0 \t 3000\n",
    "(q2, q4): (1, 0)\t 5000.0 \t 5000\n",
    "(q2, q4): (1, 1)\t 8000.0 \t 8000\n",
    "(q2, q4): (1, 2)\t 3000.0 \t 3000\n"
   ]
  },
  {
   "cell_type": "code",
   "execution_count": 1,
   "metadata": {},
   "outputs": [
    {
     "name": "stdout",
     "output_type": "stream",
     "text": [
      "(q2, q4): (0, 0)\t 1000.0 \t 1000\n",
      "(q2, q4): (0, 1)\t 2000.0 \t 2000\n",
      "(q2, q4): (0, 2)\t 3000.0 \t 3000\n",
      "(q2, q4): (1, 0)\t 5000.0 \t 5000\n",
      "(q2, q4): (1, 1)\t 8000.0 \t 8000\n",
      "(q2, q4): (1, 2)\t 3000.0 \t 3000\n"
     ]
    }
   ],
   "source": [
    "import pandas as pd\n",
    "import numpy as np\n",
    "import os\n",
    "\n",
    "PATH = r'C:\\Jian temp\\GWIndex'\n",
    "data_filename = r'result_data.csv'\n",
    "\n",
    "\n",
    "QUOTAS = (\n",
    "    ([0, 0], 1000),\n",
    "    ([0, 1], 2000),\n",
    "    ([0, 2], 3000),\n",
    "    ([1, 0], 5000),\n",
    "    ([1, 1], 8000),\n",
    "    ([1, 2], 3000),\n",
    ")\n",
    "\n",
    "def get_factor_weights(quotas, counts):\n",
    "    factors = []\n",
    "    for (q2, q4), quota_size in quotas: \n",
    "        count = counts.loc[(q2, q4)]\n",
    "        #factor = 1\n",
    "        factor = quota_size/count\n",
    "        factors.append(((q2, q4), factor))\n",
    "    return factors\n",
    "\n",
    "def distribute_factors(df, factors):\n",
    "    for (q2, q4), factor in factors:\n",
    "        df.loc[(df['q2'] == q2) & (df['q4'] == q4), 'weighting'] = factor\n",
    "    return df\n",
    "\n",
    "def load_data(filename):\n",
    "    if filename.endswith('.csv'):\n",
    "        return pd.read_csv(os.path.join(PATH, filename), index_col=0)\n",
    "    else:\n",
    "        return pd.read_hdf(filename, key='df')\n",
    "\n",
    "def groupby_factors(df):\n",
    "    return df.groupby(['q2', 'q4']).q2.count()\n",
    "    \n",
    "\n",
    "def assign_weights(df):\n",
    "    counts = groupby_factors(df)\n",
    "    factors = get_factor_weights(QUOTAS, counts)\n",
    "    dfp = distribute_factors(df, factors)\n",
    "    return dfp\n",
    "\n",
    "def validate_weights(df):\n",
    "    sums = df.groupby(['q2', 'q4']).weighting.sum()\n",
    "    for (q2, q4), quota_size in QUOTAS:\n",
    "        print('(q2, q4): ({}, {})\\t'.format(q2, q4),\n",
    "              sums.loc[(q2, q4)], '\\t', quota_size\n",
    "             )\n",
    "\n",
    "    \n",
    "def main():\n",
    "#    import argparse\n",
    "#    parser = argparse.ArgumentParser()\n",
    "#    parser.add_argument('filename', help= r'C:\\Jian temp\\GWIndex')\n",
    "#    args = parser.parse_args()\n",
    "    df = load_data(data_filename)\n",
    "    groupby_factors(df)\n",
    "    dfp = assign_weights(df)\n",
    "    validate_weights(dfp)\n",
    "#\n",
    "if __name__ == '__main__':\n",
    "    main()"
   ]
  },
  {
   "cell_type": "markdown",
   "metadata": {},
   "source": [
    "In original compute_weights.py, inside function 'get_factor_weights', factor = 1 means for every combination of q2 and q4, the sample size is exactly equal to the population size. This is usually not the right case in practice.\n", "The right way to calculate the factor is:\n",
    "\n",
    "factor = population_counts/respondent_counts"
   ]
  }
 ],
 "metadata": {
  "kernelspec": {
   "display_name": "Python 3",
   "language": "python",
   "name": "python3"
  },
  "language_info": {
   "codemirror_mode": {
    "name": "ipython",
    "version": 3
   },
   "file_extension": ".py",
   "mimetype": "text/x-python",
   "name": "python",
   "nbconvert_exporter": "python",
   "pygments_lexer": "ipython3",
   "version": "3.5.3"
  }
 },
 "nbformat": 4,
 "nbformat_minor": 2
}
